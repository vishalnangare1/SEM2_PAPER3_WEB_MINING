{
 "cells": [
  {
   "cell_type": "code",
   "execution_count": null,
   "id": "f73afeab",
   "metadata": {},
   "outputs": [],
   "source": [
    "import nltk\n",
    "nltk.download('wordnet')"
   ]
  },
  {
   "cell_type": "code",
   "execution_count": null,
   "id": "844f4a4f",
   "metadata": {},
   "outputs": [],
   "source": [
    "from nltk.stem import PorterStemmer\n",
    "pst = PorterStemmer()\n",
    "pst.stem(\"waiting\")"
   ]
  },
  {
   "cell_type": "code",
   "execution_count": null,
   "id": "070d0853",
   "metadata": {},
   "outputs": [],
   "source": [
    "print('-'*20)\n",
    "print(\"PORTER STEMMER\")\n",
    "print('-'*20)\n",
    "stm = [\"Waiting\",\"Waited\",\"Waits\"]\n",
    "for word in stm:\n",
    "    print(word+\":\"+pst.stem(word)"
   ]
  },
  {
   "cell_type": "code",
   "execution_count": null,
   "id": "2737e9c3",
   "metadata": {},
   "outputs": [],
   "source": [
    "print('-'*20)\n",
    "print(\"LANCASTER STEMMER\")\n",
    "print('-'*20)\n",
    "from nltk.stem import LancasterStemmer\n",
    "lst = LancasterStemmer()\n",
    "stm = [\"giving\",\"given\",\"gave\"]\n",
    "for word in stm:\n",
    "    print(word+\":\"+lst.stem(word))"
   ]
  }
 ],
 "metadata": {
  "kernelspec": {
   "display_name": "Python 3 (ipykernel)",
   "language": "python",
   "name": "python3"
  },
  "language_info": {
   "codemirror_mode": {
    "name": "ipython",
    "version": 3
   },
   "file_extension": ".py",
   "mimetype": "text/x-python",
   "name": "python",
   "nbconvert_exporter": "python",
   "pygments_lexer": "ipython3",
   "version": "3.11.5"
  }
 },
 "nbformat": 4,
 "nbformat_minor": 5
}
