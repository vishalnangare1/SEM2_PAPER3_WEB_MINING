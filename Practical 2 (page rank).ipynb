{
 "cells": [
  {
   "cell_type": "code",
   "execution_count": null,
   "id": "0321eff4",
   "metadata": {},
   "outputs": [],
   "source": [
    "import networkx as nx\n",
    "import pylab as plt"
   ]
  },
  {
   "cell_type": "code",
   "execution_count": null,
   "id": "2d9500fa",
   "metadata": {},
   "outputs": [],
   "source": [
    "A =nx.DiGraph()"
   ]
  },
  {
   "cell_type": "code",
   "execution_count": null,
   "id": "c6e4b4ae",
   "metadata": {},
   "outputs": [],
   "source": [
    "A.add_weighted_edges_from([('A','B',1),('A','C',1),('B','C',1)])\n",
    "print(nx.pagerank(A))"
   ]
  },
  {
   "cell_type": "code",
   "execution_count": null,
   "id": "66b09538",
   "metadata": {},
   "outputs": [],
   "source": [
    "nx.draw(A,with_labels=True)"
   ]
  }
 ],
 "metadata": {
  "kernelspec": {
   "display_name": "Python 3 (ipykernel)",
   "language": "python",
   "name": "python3"
  },
  "language_info": {
   "codemirror_mode": {
    "name": "ipython",
    "version": 3
   },
   "file_extension": ".py",
   "mimetype": "text/x-python",
   "name": "python",
   "nbconvert_exporter": "python",
   "pygments_lexer": "ipython3",
   "version": "3.11.5"
  }
 },
 "nbformat": 4,
 "nbformat_minor": 5
}
