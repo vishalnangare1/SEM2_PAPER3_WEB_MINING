{
 "cells": [
  {
   "cell_type": "code",
   "execution_count": 1,
   "id": "089965c1",
   "metadata": {},
   "outputs": [],
   "source": [
    "import nltk\n",
    "from nltk.probability import FreqDist\n",
    "from nltk.tokenize import word_tokenize"
   ]
  },
  {
   "cell_type": "code",
   "execution_count": 3,
   "id": "50802e01",
   "metadata": {},
   "outputs": [
    {
     "name": "stderr",
     "output_type": "stream",
     "text": [
      "[nltk_data] Downloading package punkt to\n",
      "[nltk_data]     C:\\Users\\haris\\AppData\\Roaming\\nltk_data...\n",
      "[nltk_data]   Unzipping tokenizers\\punkt.zip.\n"
     ]
    },
    {
     "data": {
      "text/plain": [
       "True"
      ]
     },
     "execution_count": 3,
     "metadata": {},
     "output_type": "execute_result"
    }
   ],
   "source": [
    "nltk.download('punkt')"
   ]
  },
  {
   "cell_type": "code",
   "execution_count": 4,
   "id": "4c3ddd0a",
   "metadata": {},
   "outputs": [
    {
     "data": {
      "text/plain": [
       "['hello',\n",
       " 'my',\n",
       " 'name',\n",
       " 'is',\n",
       " 'harishwar',\n",
       " 'can',\n",
       " 'you',\n",
       " 'help',\n",
       " 'me',\n",
       " 'jay',\n",
       " 'hanuman',\n",
       " 'jay',\n",
       " 'hanuman']"
      ]
     },
     "execution_count": 4,
     "metadata": {},
     "output_type": "execute_result"
    }
   ],
   "source": [
    "text=\"hello my name is harishwar can you help me jay hanuman jay hanuman\"\n",
    "token=word_tokenize(text)\n",
    "token"
   ]
  },
  {
   "cell_type": "code",
   "execution_count": 5,
   "id": "cfdc6492",
   "metadata": {},
   "outputs": [
    {
     "data": {
      "text/plain": [
       "FreqDist({'jay': 2, 'hanuman': 2, 'hello': 1, 'my': 1, 'name': 1, 'is': 1, 'harishwar': 1, 'can': 1, 'you': 1, 'help': 1, ...})"
      ]
     },
     "execution_count": 5,
     "metadata": {},
     "output_type": "execute_result"
    }
   ],
   "source": [
    "fdist = FreqDist(token)\n",
    "fdist"
   ]
  },
  {
   "cell_type": "code",
   "execution_count": 6,
   "id": "22a8c11c",
   "metadata": {},
   "outputs": [
    {
     "data": {
      "text/plain": [
       "[('jay', 2),\n",
       " ('hanuman', 2),\n",
       " ('hello', 1),\n",
       " ('my', 1),\n",
       " ('name', 1),\n",
       " ('is', 1),\n",
       " ('harishwar', 1),\n",
       " ('can', 1),\n",
       " ('you', 1),\n",
       " ('help', 1)]"
      ]
     },
     "execution_count": 6,
     "metadata": {},
     "output_type": "execute_result"
    }
   ],
   "source": [
    "FD1 = fdist.most_common(10)\n",
    "FD1"
   ]
  },
  {
   "cell_type": "code",
   "execution_count": null,
   "id": "2bb2f155",
   "metadata": {},
   "outputs": [],
   "source": []
  }
 ],
 "metadata": {
  "kernelspec": {
   "display_name": "Python 3 (ipykernel)",
   "language": "python",
   "name": "python3"
  },
  "language_info": {
   "codemirror_mode": {
    "name": "ipython",
    "version": 3
   },
   "file_extension": ".py",
   "mimetype": "text/x-python",
   "name": "python",
   "nbconvert_exporter": "python",
   "pygments_lexer": "ipython3",
   "version": "3.11.5"
  }
 },
 "nbformat": 4,
 "nbformat_minor": 5
}
